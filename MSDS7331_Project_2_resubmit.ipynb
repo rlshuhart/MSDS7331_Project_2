{
 "cells": [
  {
   "cell_type": "markdown",
   "metadata": {},
   "source": [
    "# MSDS 7331 - Project 2 - Resubmit\n",
    "## Team: Dineen Parker, Dale Legband, Ryan Shuhart"
   ]
  },
  {
   "cell_type": "markdown",
   "metadata": {},
   "source": [
    "## Added for this resubmit:\n",
    "* Task two, at the bottom\n",
    "* Added the random forest classifier feature importances (end of the first section)\n",
    "\n",
    "## 'Learned something' bullet points:\n",
    "* How do to the risk levels. First suggestion a decision tree classifier. Then it turned out that RF gave us that ability, and it turned out great.\n",
    "* Learned that gridesearch ran very slowly for RF because RF run times are much higher than LR and KNN.\n",
    "* Starting with the original data, rather than an intermediate version, keeps the variables and transformations clear. For small data sets like this, the reprocessing overhead is not significant. For real 'big data', keeping the intermediate data around is probably a better approach.\n",
    "* New appreciation of pipelines."
   ]
  },
  {
   "cell_type": "code",
   "execution_count": 36,
   "metadata": {
    "collapsed": false
   },
   "outputs": [],
   "source": [
    "### Modules Used ###\n",
    "\n",
    "# Data manipulation: pandas and numpy\n",
    "import pandas as pd\n",
    "import numpy as np\n",
    "\n",
    "# Visualization: seaborn and matplotlib\n",
    "import matplotlib.pyplot as plt\n",
    "import seaborn as sns\n",
    "\n",
    "# other\n",
    "import time\n",
    "import warnings"
   ]
  },
  {
   "cell_type": "markdown",
   "metadata": {},
   "source": [
    "### Data Definitions and Preparation\n",
    "\n",
    "* Task two is 3/4 of the way towards the bottom\n",
    "* The following were converted 'AGE', 'SEX','MARRIAGE', 'LIMIT_BAL': \n",
    "  * One hot encoding of MARRIAGE\n",
    "  * SEX was converted to isMale\n",
    "  * AGE was converted to age ranges\n",
    "  * LIMIT_BAL was converted to limit ranges\n",
    "* We use scaled data (Standard Scaled) to bring the payment levels and monthly counts into a common scale\n",
    "* We will use StratifiedKFold to create mulitple train/test data sets for cross validation\n",
    "  * We have enough samples that we do not see any weakness of using StratifiedKFold\n",
    "* We use manually selected attributes for a Logistic Model to improve the fit\n",
    "  * Here we will try PCA\n",
    "  * We will use Pipelines to match the attribute reduction with the model\n",
    "\n",
    "* We will use GridSearch to look for optimal parameters for various models, including visualization\n",
    "of the parameters and their resulting models\n",
    "\n",
    "* We will use ROC Curves and AUC scores to decide on the best model\n",
    "* We will use visulazations throughout, but especially in justyfying our model selection\n",
    "* We will document the most important attributes\n"
   ]
  },
  {
   "cell_type": "code",
   "execution_count": 37,
   "metadata": {
    "collapsed": false,
    "scrolled": false
   },
   "outputs": [
    {
     "name": "stdout",
     "output_type": "stream",
     "text": [
      "<class 'pandas.core.frame.DataFrame'>\n",
      "Int64Index: 29601 entries, 1 to 30000\n",
      "Data columns (total 30 columns):\n",
      "SEX                           29601 non-null int64\n",
      "EDUCATION                     29601 non-null int64\n",
      "AGE                           29601 non-null int64\n",
      "PAY_0_Sept                    29601 non-null int64\n",
      "PAY_2_Aug                     29601 non-null int64\n",
      "PAY_3_July                    29601 non-null int64\n",
      "PAY_4_June                    29601 non-null int64\n",
      "PAY_5_May                     29601 non-null int64\n",
      "PAY_6_April                   29601 non-null int64\n",
      "BILL_AMT1_Sept                29601 non-null int64\n",
      "BILL_AMT2_Aug                 29601 non-null int64\n",
      "BILL_AMT3_July                29601 non-null int64\n",
      "BILL_AMT4_June                29601 non-null int64\n",
      "BILL_AMT5_May                 29601 non-null int64\n",
      "BILL_AMT6_April               29601 non-null int64\n",
      "PAY_AMT1_Sept                 29601 non-null int64\n",
      "PAY_AMT2_Aug                  29601 non-null int64\n",
      "PAY_AMT3_July                 29601 non-null int64\n",
      "PAY_AMT4_June                 29601 non-null int64\n",
      "PAY_AMT5_May                  29601 non-null int64\n",
      "PAY_AMT6_April                29601 non-null int64\n",
      "default payment next month    29601 non-null int64\n",
      "AGE_range                     29601 non-null int32\n",
      "LIMIT_BAL_range               29601 non-null int32\n",
      "isMale                        29601 non-null bool\n",
      "isLimitBal_gt_250K            29601 non-null bool\n",
      "isGradSchool                  29601 non-null bool\n",
      "Marriage_Married              29601 non-null float64\n",
      "Marriage_Others               29601 non-null float64\n",
      "Marriage_Single               29601 non-null float64\n",
      "dtypes: bool(3), float64(3), int32(2), int64(22)\n",
      "memory usage: 6.2 MB\n",
      "None\n"
     ]
    }
   ],
   "source": [
    "# First row are for reference with header starting on line 2.\n",
    "# ID field is use as the index field in the data frame\n",
    "# Month specific columns renamed with month for readability\n",
    "\n",
    "cc_data = (pd.read_excel(\"./cc_data/default of credit card clients.xls\", skiprows=1, index_col='ID')\n",
    "             .rename(columns={'PAY_0':'PAY_0_Sept', #No Pay_1\n",
    "                              'PAY_2':'PAY_2_Aug', # change 'this':'to that'\n",
    "                              'PAY_3':'PAY_3_July', \n",
    "                              'PAY_4':'PAY_4_June',\n",
    "                              'PAY_5':'PAY_5_May',\n",
    "                              'PAY_6':'PAY_6_April',\n",
    "                              'BILL_AMT1':'BILL_AMT1_Sept', \n",
    "                              'BILL_AMT2':'BILL_AMT2_Aug', \n",
    "                              'BILL_AMT3':'BILL_AMT3_July', \n",
    "                              'BILL_AMT4':'BILL_AMT4_June', \n",
    "                              'BILL_AMT5':'BILL_AMT5_May',\n",
    "                              'BILL_AMT6':'BILL_AMT6_April', \n",
    "                              'PAY_AMT1':'PAY_AMT1_Sept', \n",
    "                              'PAY_AMT2':'PAY_AMT2_Aug', \n",
    "                              'PAY_AMT3':'PAY_AMT3_July', \n",
    "                              'PAY_AMT4':'PAY_AMT4_June', \n",
    "                              'PAY_AMT5':'PAY_AMT5_May',\n",
    "                              'PAY_AMT6':'PAY_AMT6_April'\n",
    "                             })\n",
    "             # Due to the many age values, creating ordinal age brackets\n",
    "             # '21-30':0,\n",
    "             # '31-40':1,\n",
    "             # '41-50':2, \n",
    "             # '51-60':3,\n",
    "             # '61-70':4,\n",
    "             # '71-80+':5\n",
    "             .assign(AGE_range = lambda x: pd.cut(x['AGE'],[20,30,40,50,60,70,120], 6, \n",
    "                                                 labels=[0,1,2,3,4,5]).astype(int))\n",
    "             # this creates a new variable for LIMIT_BAL_brackets and drop 'LIMIT_BAL'\n",
    "             .assign(LIMIT_BAL_range = lambda x: pd.cut(x['LIMIT_BAL'],[0,250000,500000,750000,1e7], 4, \n",
    "                                                 labels=[0,1,2,3]).astype(int))\n",
    "             .drop(['LIMIT_BAL'], axis=1)\n",
    "             # Male = 1 and Female = 2, this creates binary 0 or 1 feature if male\n",
    "             .assign(isMale = lambda x: x['SEX'] == 1) \n",
    "             .assign(MARRIAGE = lambda x: x['MARRIAGE'].apply({1:'Married', \n",
    "                                                               2:'Single',\n",
    "                                                               3:'Others'}.get))\n",
    "            .assign(isLimitBal_gt_250K = lambda x: x['LIMIT_BAL_range'] > 0)  \n",
    "            .assign(isGradSchool = lambda x: x['EDUCATION'] == 1)  \n",
    "           )\n",
    "\n",
    "# drop rows with missing marriage indicator. Loss of 54 rows to 29,946\n",
    "cc_data = cc_data[cc_data['MARRIAGE'].isin(['Married','Single','Others'])] \n",
    "\n",
    "# Make dummies from marriage and drop marriage column\n",
    "cc_data = (pd.concat((cc_data,\n",
    "                     pd.get_dummies(cc_data['MARRIAGE'], prefix='Marriage')), \n",
    "                    axis=1)\n",
    "           .drop('MARRIAGE', axis=1)\n",
    "           )\n",
    "\n",
    "# drop undocumented 'Education' values. Loss of 345 rows to 29,601\n",
    "# Impute undefined values. \"~\" symbol means to invert. Or for the below \"not in\"\n",
    "cc_data = cc_data[cc_data['EDUCATION'].isin([1,2,3,4])]\n",
    "\n",
    "# Remap to ordinal numbering from:\n",
    "# 1:'Graduate School', \n",
    "# 2:'University',\n",
    "# 3:'High School',\n",
    "# 4:'Others'\n",
    "# to:\n",
    "# 'High School':0,\n",
    "# 'University':1,\n",
    "# 'Graduate School':2, \n",
    "# 'Others':3\n",
    "cc_data = cc_data.assign(EDUCATION = lambda x: x['EDUCATION'].apply({1:2, \n",
    "                                                                     2:1,\n",
    "                                                                     3:0,\n",
    "                                                                     4:3}.get))\n",
    "\n",
    "print(cc_data.info())"
   ]
  },
  {
   "cell_type": "markdown",
   "metadata": {},
   "source": [
    "<hr>\n",
    "#### Variable Notes:\n",
    "AGE - This variable is right skewed with a range from age 21 to 79. The average age is 35 with the median at 34. This variable is clean of outliers.\n",
    "\n",
    "Bill Amount (BILL_AMT1_Sept - BILL_AMT6_April) - The amount of the credit card bill in Taiwan Dollar for the months April 2005 to September2015. The bill amounts across the months are highly correlated.\n",
    "\n",
    "EDUCATION - Undergraduate degree (University) is the most common education level at 46.8%. The majority of observations (82.1%) are from individuals with an undergraduate degree (University) or better.\n",
    "\n",
    "LIMIT_BAL - Ranges from 10k to 1mm with a median of 140k. The values are right skewed, however, no unreasonable looking outliers. The total credit limit extended to the sample is over five billion.\n",
    "\n",
    "MARRIAGE - Single makes up the largest group at 53.2%, then Married at 45.5%, and lastly an Others group of 1.3%\n",
    "\n",
    "Pay History (PAY_0_Sept - PAY_6_April) - The 3rd quartile for each month is zero meaning, most observations are zero or less. One month delays seem to be far more absent in months PAY_2_Aug to PAY_6_April, with PAY_5_May, PAY_6_April not having any at all and seems rather odd. Only PAY_0_Sept of 1 seems to fit as one would expect. As mentioned previously, the provided documentation does not explain the values of -2 and 0, but it can be inferred as not negative events. To resolve these problems, one solution would be to create a variable called **has_Pay_Delay** history and consolidate it to a binary TRUE/FALSE variable and, thereby, removing the month in which it occurred. \n",
    "\n",
    "Pay Amount (PAY_AMT1_Sept - PAY_AMT6_April) - Is the amount of the payment toward the credit card that month. About a fifth of the observations are zeros each month.\n",
    "\n",
    "SEX - Females are the majority gender at 60.4%.\n",
    "\n",
    "AGE_range - Variable was created by bracketing the ages from the AGE variable by 10 years ('21-30', '31-40', '41-50', '51-60', '61-70', '71-80+'). Seventy-two percent of the observations fall in to the first two categories \"21-30\" and \"31-40.\"\n",
    "\n",
    "default payment next month - This is a binary variable of 0 or 1. 22.1% of the obeservations were considered in default in October 2005 and this is the sample average.\n",
    "\n",
    "\n",
    "#### Description of the Data per Offical Documentation\n",
    "**LIMIT_BAL** (Ratio): Amount of the given credit (NT dollar): it includes both the individual consumer credit and his/her family (supplementary) credit.<br>\n",
    "**SEX** (Nominal): Gender (1 = male; 2 = female)<br>\n",
    "**EDUCATION** (Nominal): Education (1 = graduate school; 2 = university; 3 = high school; 4 = others)<br>\n",
    "**MARRIAGE** (Nominal): Marital status (1 = married; 2 = single; 3 = others)<BR>\n",
    "**AGE** (Interval): Age (year)<BR>\n",
    "**PAY_0_Sept - PAY_6_April** (Ordinal): History of past payment. The past monthly payment records (from April to September, \n",
    "2005). The measurement scale for the repayment status is: <BR>\n",
    "&nbsp;&nbsp;&nbsp;&nbsp;&nbsp;&nbsp;-1 = pay duly<BR>\n",
    "&nbsp;&nbsp;&nbsp;&nbsp;&nbsp;&nbsp;1 - 8 = payment delay for one to eight months <BR>\n",
    "&nbsp;&nbsp;&nbsp;&nbsp;&nbsp;&nbsp;9 = payment delay for nine months and above<BR>\n",
    "**BILL_AMT1_Sept - BILL_AMT6_April** (Ratio): Amount of bill statement (NT dollar) <BR>\n",
    "**PAY_AMT1_Sept - PAY_AMT6_April** (Ratio): Amount of previous payment (NT dollar) <BR>\n",
    "**default payment next month** (Nominal): default payment (Yes = 1, No = 0)"
   ]
  },
  {
   "cell_type": "markdown",
   "metadata": {},
   "source": [
    "### Convert data to numpy arrays for training"
   ]
  },
  {
   "cell_type": "code",
   "execution_count": 38,
   "metadata": {
    "collapsed": false
   },
   "outputs": [],
   "source": [
    "# Seperate target data and explanatory data to NumPy arrays\n",
    "# ***Alert*** Changed variable names\n",
    "y = cc_data['default payment next month'].values\n",
    "X = cc_data.drop('default payment next month', axis='columns').values\n",
    "\n",
    "# Column names for labeling\n",
    "X_names = cc_data.drop('default payment next month', axis='columns').columns"
   ]
  },
  {
   "cell_type": "markdown",
   "metadata": {},
   "source": [
    "## Dividing Data for Training and Testing\n",
    "Dividing data will be accomplished in two ways. The first way, Scikit-learn's train_test_split will be used to split the data with 80% to training and 20% for testing. To test model prediction acuracy, the binary response of the dataset will use stratified k-fold for cross validation. This will also address the imbalanced binary response. Almost 80% of the data is a false response. Stratified will ensure each fold will have the same amount in each response, so one model will not have a high representation of false. "
   ]
  },
  {
   "cell_type": "code",
   "execution_count": 39,
   "metadata": {
    "collapsed": false
   },
   "outputs": [],
   "source": [
    "# Source: Python Machine Learning by Sebastian Raschka\n",
    "# Create train and test sets using 80/20 split\n",
    "from sklearn.cross_validation import train_test_split\n",
    "X_train, X_test, y_train, y_test =  train_test_split(X, y, test_size=0.20, random_state=1)"
   ]
  },
  {
   "cell_type": "code",
   "execution_count": 40,
   "metadata": {
    "collapsed": true
   },
   "outputs": [],
   "source": [
    "# Source: Python Machine Learning by Sebastian Raschka\n",
    "# estimator pipelines\n",
    "from sklearn.preprocessing import StandardScaler\n",
    "from sklearn.decomposition import PCA\n",
    "from sklearn.linear_model import LogisticRegression\n",
    "from sklearn.neighbors import KNeighborsClassifier\n",
    "from sklearn.ensemble import RandomForestClassifier\n",
    "from sklearn.pipeline import Pipeline\n",
    "\n",
    "###############################################################################\n",
    "########################## Logistic Regression Pipe ###########################\n",
    "###############################################################################\n",
    "clf_name='Logistic Regression'\n",
    "pipe_lr = Pipeline([('scl', StandardScaler()),\n",
    "                    ('pca', PCA()),\n",
    "                    ('clf', LogisticRegression(random_state=1))])\n",
    "param_grid_lr = [{'pca__n_components':[1,2,3,4],\n",
    "                  'clf__C': [.1,1,10,100,1000],\n",
    "                  'clf__penalty': ['l1','l2'],\n",
    "                  'clf__class_weight': ['balanced', None]}]\n",
    "payload_lr = [clf_name, pipe_lr, param_grid_lr]\n",
    "\n",
    "###############################################################################\n",
    "################################## KNN Pipe ###################################\n",
    "###############################################################################\n",
    "clf_name='K Nearest Neighbors'\n",
    "pipe_knn = Pipeline([('scl', StandardScaler()),\n",
    "                    ('pca', PCA()),\n",
    "                    ('clf', KNeighborsClassifier())])\n",
    "\n",
    "param_grid_knn = [{'pca__n_components':[1,2,3,4],\n",
    "                   'clf__n_neighbors': np.arange(1, 11, 1), # Series of 1 to 10\n",
    "                   'clf__p': [1,2]}]\n",
    "\n",
    "payload_knn = [clf_name, pipe_knn, param_grid_knn]\n",
    "\n",
    "###############################################################################\n",
    "############################## Randomforest Pipe ##############################\n",
    "###############################################################################\n",
    "# No need to scale on RF\n",
    "clf_name='Random Forest'\n",
    "pipe_rf = Pipeline([('clf', RandomForestClassifier(random_state=1,\n",
    "                                                   n_jobs=1))])\n",
    "\n",
    "param_grid_rf = [{'clf__criterion': ['entropy','gini'],\n",
    "                  'clf__n_estimators': [10,15,20], \n",
    "                  'clf__max_features': ['auto', 'sqrt', 'log2', None],\n",
    "                  'clf__class_weight': ['balanced', 'balanced_subsample', None]}]\n",
    "\n",
    "payload_rf = [clf_name, pipe_rf, param_grid_rf]"
   ]
  },
  {
   "cell_type": "code",
   "execution_count": 41,
   "metadata": {
    "collapsed": false,
    "scrolled": false
   },
   "outputs": [
    {
     "name": "stdout",
     "output_type": "stream",
     "text": [
      "Logistic Regression\n",
      "Best F-Score:  0.431896102245\n",
      "Best Parameters:  {'clf__penalty': 'l2', 'pca__n_components': 4, 'clf__class_weight': 'balanced', 'clf__C': 1}\n",
      "Best Estimator:  Pipeline(steps=[('scl', StandardScaler(copy=True, with_mean=True, with_std=True)), ('pca', PCA(copy=True, n_components=4, whiten=False)), ('clf', LogisticRegression(C=1, class_weight='balanced', dual=False,\n",
      "          fit_intercept=True, intercept_scaling=1, max_iter=100,\n",
      "          multi_class='ovr', n_jobs=1, penalty='l2', random_state=1,\n",
      "          solver='liblinear', tol=0.0001, verbose=0, warm_start=False))])\n",
      "K Nearest Neighbors\n",
      "Best F-Score:  0.387590420517\n",
      "Best Parameters:  {'pca__n_components': 4, 'clf__n_neighbors': 3, 'clf__p': 1}\n",
      "Best Estimator:  Pipeline(steps=[('scl', StandardScaler(copy=True, with_mean=True, with_std=True)), ('pca', PCA(copy=True, n_components=4, whiten=False)), ('clf', KNeighborsClassifier(algorithm='auto', leaf_size=30, metric='minkowski',\n",
      "           metric_params=None, n_jobs=1, n_neighbors=3, p=1,\n",
      "           weights='uniform'))])\n",
      "Random Forest\n",
      "Best F-Score:  0.462609686784\n",
      "Best Parameters:  {'clf__max_features': None, 'clf__n_estimators': 15, 'clf__criterion': 'entropy', 'clf__class_weight': None}\n",
      "Best Estimator:  Pipeline(steps=[('clf', RandomForestClassifier(bootstrap=True, class_weight=None, criterion='entropy',\n",
      "            max_depth=None, max_features=None, max_leaf_nodes=None,\n",
      "            min_samples_leaf=1, min_samples_split=2,\n",
      "            min_weight_fraction_leaf=0.0, n_estimators=15, n_jobs=1,\n",
      "            oob_score=False, random_state=1, verbose=0, warm_start=False))])\n"
     ]
    }
   ],
   "source": [
    "# Source: Python Machine Learning by Sebastian Raschka\n",
    "from sklearn.grid_search import GridSearchCV\n",
    "from sklearn import metrics\n",
    "from sklearn.metrics import roc_curve, auc\n",
    "from sklearn.cross_validation import train_test_split\n",
    "import warnings\n",
    "\n",
    "# http://scikit-learn.org/stable/modules/model_evaluation.html\n",
    "\"\"\"\n",
    "Per documentation on Scikit-Learn regarding cross validation (cv) parameter, \n",
    "\"For integer/None inputs, if y is binary or multiclass, StratifiedKFold used. If the \n",
    "estimator is a classifier or if y is neither binary nor multiclass, KFold is used.\"\n",
    "\"\"\"\n",
    "\n",
    "def grid_searcher2(X_train, y_train, payload):\n",
    "    with warnings.catch_warnings():\n",
    "        warnings.simplefilter(\"ignore\")\n",
    "        gs = GridSearchCV(estimator=payload[1], \n",
    "                          param_grid=payload[2], \n",
    "                          scoring='f1', \n",
    "                          cv=10,\n",
    "                          n_jobs=-1)\n",
    "\n",
    "        gs = gs.fit(X_train, y_train)\n",
    "        print(payload[0])\n",
    "        print(\"Best F-Score: \", gs.best_score_)\n",
    "        print(\"Best Parameters: \", gs.best_params_)\n",
    "        print(\"Best Estimator: \", gs.best_estimator_)\n",
    "    return gs\n",
    "\n",
    "# Run Logistic Regression, KNN, and Random Forest Models\n",
    "gs_lr = grid_searcher2(X_train, y_train, payload_lr)\n",
    "gs_knn = grid_searcher2(X_train, y_train, payload_knn)\n",
    "gs_rf = grid_searcher2(X_train, y_train, payload_rf)"
   ]
  },
  {
   "cell_type": "markdown",
   "metadata": {},
   "source": [
    "## Model Parameter Search\n",
    "The best estimator of each model was select using the f1 score. The choice of f1 score will be discussed below. Logistic Regressions model uses 3 PCA components using a balanced weighting for the 10 fold cross validation. This is important due to the imbalance of the data. The C value used is 10 with the l1 penalty. \n",
    "\n",
    "Regarding KNN, the parameter search landed on 7 neighbors. This model also is optimal on 3 PCA components. The power parameter 'p' for the Minkowski metric is 1 which is equivalent to Manhattan distance.\n",
    "\n",
    "Compared to the other two, the RF model took the longest to search, however, there was no dimension reduction. The entropy split criterion performed better than gini using 15 estimators. Surprisingly, using no class weighting was the optimal choice."
   ]
  },
  {
   "cell_type": "markdown",
   "metadata": {},
   "source": [
    "## Modeling and Evaluation"
   ]
  },
  {
   "cell_type": "markdown",
   "metadata": {},
   "source": [
    "The business case for a proper measure needs to take into account the cost of being wrong. To wrongly classify someone as to not default could lead to a large loss to the credit card company, whereas, incorrectly classifying someone as to default incorrect intervention might lead to a loss of a customer. Given the little domain knowledge of default intervention strategies, we are going to assume the cost of default of a customer is more than the cost of a lost customer. This means the false positives (FP) are not as costly as false negatives (FN). Furthermore, this means that the recall measurement should be maximized while minimizing the impact of precision. Recall is calculated below:\n",
    "\n",
    "<center>$recall = \\frac{TP}{TP + FN}$</center>\n",
    "\n",
    "The total of true positive (TP) and FN is the amount of all the actual positives. We want the FN to be minimized in the prediction, while accurately labeling them as TP. In this way TP would approach 100% as FN approaches zero. However, the cost of improving recall could cause precision to get worse. Precision is calculated below:\n",
    "\n",
    "<center>$precision = \\frac{TP}{TP + FP}$</center>\n",
    "\n",
    "Precision is the accuracy of the predicted positives. The total of TP and FP is the classification of the all predicted positives. Precision can start to decrease as the model loosens the criteria to increase the TP. TP might increase, but FP might increase as well. \n",
    "\n",
    "Recall and precision are competing in nature, therefore, all being kept the same, improving one will be at the expense of the other.\n",
    "\n",
    "Because we consider FN to be more costly, recall is considered more important and reducing precision is an acceptable trade-off.\n",
    "\n",
    "According to Nitesh Chawla, ROC Curves and AUC scores are good measures for imbalanced data sources and \"The main goal for learning from imbalanced datasets is to improve the recall without hurting the precision...The F-value metric is one measure that combines the trade-offs of precision and recall, and outputs a single number reflecting the 'goodness' of a classifier in the presence of rare classes.\" The F-value is also known as the f1-score in Scikit Learn and this will also be used in comparing the classifiers. Below is the formula, where $\\beta$ is the relative importance weighting of precision vs recall, and is usually set to 1.\n",
    "\n",
    "<center>$ F-value = \\frac{(1+\\beta^{2})*recall*precision}{\\beta^{2}*recall*precision}$</center>\n",
    "\n",
    "Source:\n",
    "https://www3.nd.edu/~dial/publications/chawla2005data.pdf"
   ]
  },
  {
   "cell_type": "code",
   "execution_count": 42,
   "metadata": {
    "collapsed": false,
    "scrolled": false
   },
   "outputs": [
    {
     "name": "stdout",
     "output_type": "stream",
     "text": [
      "Linear Regression\n",
      "****************************************************\n",
      "Classification Report:\n",
      "Accuracy: 0.630\n",
      "AUC: 0.697\n",
      "             precision    recall  f1-score   support\n",
      "\n",
      "          0       0.86      0.62      0.72      4611\n",
      "          1       0.33      0.65      0.44      1310\n",
      "\n",
      "avg / total       0.75      0.63      0.66      5921\n",
      "\n",
      "****************************************************\n",
      "\n",
      "\n",
      "KNN\n",
      "****************************************************\n",
      "Classification Report:\n",
      "Accuracy: 0.772\n",
      "AUC: 0.672\n",
      "             precision    recall  f1-score   support\n",
      "\n",
      "          0       0.83      0.89      0.86      4611\n",
      "          1       0.48      0.34      0.40      1310\n",
      "\n",
      "avg / total       0.75      0.77      0.76      5921\n",
      "\n",
      "****************************************************\n",
      "\n",
      "\n",
      "Random Forest\n",
      "****************************************************\n",
      "Classification Report:\n",
      "Accuracy: 0.814\n",
      "AUC: 0.743\n",
      "             precision    recall  f1-score   support\n",
      "\n",
      "          0       0.84      0.93      0.89      4611\n",
      "          1       0.62      0.40      0.49      1310\n",
      "\n",
      "avg / total       0.80      0.81      0.80      5921\n",
      "\n",
      "****************************************************\n",
      "\n",
      "\n"
     ]
    }
   ],
   "source": [
    "%matplotlib inline\n",
    "# Source: Python Machine Learning by Sebastian Raschka\n",
    "# Create train and test sets using 80/20 split\n",
    "from sklearn.cross_validation import train_test_split\n",
    "from sklearn.metrics import classification_report, roc_auc_score, accuracy_score\n",
    "\n",
    "X_train, X_test, y_train, y_test =  train_test_split(X, y, test_size=0.20, random_state=1)\n",
    "\n",
    "# Make ROC Curve\n",
    "def roc_data(gs, X_train, y_train, X_test, y_test):\n",
    "    with warnings.catch_warnings():\n",
    "        warnings.simplefilter(\"ignore\")\n",
    "        best_clf = gs.best_estimator_\n",
    "        best_clf.fit(X_train, y_train)\n",
    "        y_pred_proba = best_clf.predict_proba(X_test)[:, 1]\n",
    "        fpr, tpr, _ = roc_curve(y_test, y_pred_proba)\n",
    "        y_pred = best_clf.predict(X_test)\n",
    "        print(\"****************************************************\")\n",
    "        print(\"Classification Report:\")\n",
    "        print(\"Accuracy: %.3f\" % accuracy_score(y_test, y_pred))\n",
    "        print(\"AUC: %.3f\" % roc_auc_score(y_test, y_pred_proba))\n",
    "        print(classification_report(y_test, y_pred))\n",
    "        print(\"****************************************************\")\n",
    "        print(\"\\n\")\n",
    "    return fpr, tpr\n",
    "\n",
    "print(\"Linear Regression\")\n",
    "fpr_lr, tpr_lr = roc_data(gs_lr, X_train, y_train, X_test, y_test)\n",
    "print(\"KNN\")\n",
    "fpr_knn, tpr_knn = roc_data(gs_knn, X_train, y_train, X_test, y_test)\n",
    "print(\"Random Forest\")\n",
    "fpr_rf, tpr_rf = roc_data(gs_rf, X_train, y_train, X_test, y_test)"
   ]
  },
  {
   "cell_type": "markdown",
   "metadata": {
    "collapsed": false
   },
   "source": [
    "### Review of Key Statistics\n",
    "Reviewing the metrics of the classifiers above, Random Forest (RF) is the clear winner. RF has a superior AUC score of .745 and f1-score of .80. Also, the ROC curve further below shows the RF model has the best performing curve over all. KNN and RF converge around 60% of false positives, however, this is on the upper end of the curve and is probably not optimal. Using the AUC value RF is still the better model. The accuracy of RF is also better than an all \"no default\" benchmark of 77.7%."
   ]
  },
  {
   "cell_type": "code",
   "execution_count": 43,
   "metadata": {
    "collapsed": false
   },
   "outputs": [
    {
     "name": "stdout",
     "output_type": "stream",
     "text": [
      "The models should have an accuracy better than predicting all non-defaults of 77.7%\n"
     ]
    }
   ],
   "source": [
    "# The sample default rate is the same as predicting all zeros (or no defaults)\n",
    "from sklearn import metrics as mt\n",
    "all_zeros = np.zeros(len(y))\n",
    "all_zero_score = mt.accuracy_score(y,all_zeros)*100\n",
    "print(\"The models should have an accuracy better than predicting all non-defaults of %.1f%%\"  % all_zero_score)"
   ]
  },
  {
   "cell_type": "code",
   "execution_count": 44,
   "metadata": {
    "collapsed": false
   },
   "outputs": [
    {
     "data": {
      "image/png": "[encoded data removed]",
      "text/plain": [
       "<matplotlib.figure.Figure at 0x26bd28b93c8>"
      ]
     },
     "metadata": {},
     "output_type": "display_data"
    }
   ],
   "source": [
    "%matplotlib inline\n",
    "\n",
    "fpr_zero, tpr_zero, _ = roc_curve(y_test, np.zeros(len(y_test)))\n",
    "\n",
    "plt.figure(figsize=(10, 10))\n",
    "plt.plot(fpr_lr, tpr_lr, label='Logistic Reg')\n",
    "plt.plot(fpr_knn, tpr_knn, label='KNN')\n",
    "plt.plot(fpr_rf, tpr_rf, label='RF')\n",
    "plt.plot(fpr_zero, tpr_zero, label='All Zeros', color=\"red\")# Equivalent to Diagonal\n",
    "plt.plot([0, 1], [0, 1], 'k--')\n",
    "plt.legend(loc=\"lower right\")\n",
    "plt.xlabel('Percent False Positive')\n",
    "plt.ylabel('Percent True Positive')\n",
    "plt.show()"
   ]
  },
  {
   "cell_type": "markdown",
   "metadata": {},
   "source": [
    "## Stratified 10 Fold Cross Validation on Test Data\n",
    "Using the best parameters from grid search for Logistic Regression, KNN, and Random Forest"
   ]
  },
  {
   "cell_type": "code",
   "execution_count": 45,
   "metadata": {
    "collapsed": false
   },
   "outputs": [],
   "source": [
    "#******************************************************************************\n",
    "#***************************** K Fold Parameters ******************************\n",
    "#******************************************************************************\n",
    "\n",
    "############################ Logistic Regression ##############################\n",
    "clf_name='Logistic Regression'\n",
    "kf_payload_lr = [clf_name, gs_lr.best_estimator_]\n",
    "\n",
    "#################################### KNN ######################################\n",
    "clf_name='K Nearest Neighbors'\n",
    "kf_payload_knn = [clf_name, gs_knn.best_estimator_]\n",
    "\n",
    "################################ Random Forest ################################\n",
    "clf_name='Random Forest'\n",
    "kf_payload_rf = [clf_name, gs_rf.best_estimator_]"
   ]
  },
  {
   "cell_type": "code",
   "execution_count": 46,
   "metadata": {
    "collapsed": false,
    "scrolled": false
   },
   "outputs": [
    {
     "name": "stdout",
     "output_type": "stream",
     "text": [
      "Logistic Regression\n",
      "Fold: 1, Class dist.: [16546  4765], Acc: 0.622\n",
      "Fold: 2, Class dist.: [16546  4765], Acc: 0.613\n",
      "Fold: 3, Class dist.: [16546  4765], Acc: 0.618\n",
      "Fold: 4, Class dist.: [16546  4765], Acc: 0.635\n",
      "Fold: 5, Class dist.: [16546  4765], Acc: 0.622\n",
      "Fold: 6, Class dist.: [16547  4766], Acc: 0.632\n",
      "Fold: 7, Class dist.: [16547  4766], Acc: 0.628\n",
      "Fold: 8, Class dist.: [16547  4766], Acc: 0.622\n",
      "Fold: 9, Class dist.: [16547  4766], Acc: 0.625\n",
      "Fold: 10, Class dist.: [16547  4766], Acc: 0.628\n",
      "\n",
      "CV accuracy: 0.624 +/- 0.005\n",
      "\n",
      "K Nearest Neighbors\n",
      "Fold: 1, Class dist.: [16546  4765], Acc: 0.768\n",
      "Fold: 2, Class dist.: [16546  4765], Acc: 0.762\n",
      "Fold: 3, Class dist.: [16546  4765], Acc: 0.758\n",
      "Fold: 4, Class dist.: [16546  4765], Acc: 0.767\n",
      "Fold: 5, Class dist.: [16546  4765], Acc: 0.762\n",
      "Fold: 6, Class dist.: [16547  4766], Acc: 0.757\n",
      "Fold: 7, Class dist.: [16547  4766], Acc: 0.771\n",
      "Fold: 8, Class dist.: [16547  4766], Acc: 0.760\n",
      "Fold: 9, Class dist.: [16547  4766], Acc: 0.771\n",
      "Fold: 10, Class dist.: [16547  4766], Acc: 0.768\n",
      "\n",
      "CV accuracy: 0.765 +/- 0.004\n",
      "\n",
      "Random Forest\n",
      "Fold: 1, Class dist.: [16546  4765], Acc: 0.803\n",
      "Fold: 2, Class dist.: [16546  4765], Acc: 0.796\n",
      "Fold: 3, Class dist.: [16546  4765], Acc: 0.803\n",
      "Fold: 4, Class dist.: [16546  4765], Acc: 0.809\n",
      "Fold: 5, Class dist.: [16546  4765], Acc: 0.811\n",
      "Fold: 6, Class dist.: [16547  4766], Acc: 0.806\n",
      "Fold: 7, Class dist.: [16547  4766], Acc: 0.803\n",
      "Fold: 8, Class dist.: [16547  4766], Acc: 0.802\n",
      "Fold: 9, Class dist.: [16547  4766], Acc: 0.803\n",
      "Fold: 10, Class dist.: [16547  4766], Acc: 0.812\n",
      "\n",
      "CV accuracy: 0.805 +/- 0.004\n",
      "\n"
     ]
    }
   ],
   "source": [
    "# Could use cross_val_score instead\n",
    "# Cross Validation Object\n",
    "\n",
    "import scipy as sp\n",
    "import scipy.stats\n",
    "def mean_confidence_interval(data, confidence=0.95):\n",
    "    a = 1.0*np.array(data)\n",
    "    n = len(a)\n",
    "    m, se = np.mean(a), scipy.stats.sem(a)\n",
    "    h = se * sp.stats.t._ppf((1+confidence)/2., n-1)\n",
    "    return m, h #m-h, m+h\n",
    "\n",
    "from sklearn.cross_validation import StratifiedKFold\n",
    "kfold = StratifiedKFold(y=y_train,\n",
    "                           n_folds=10,\n",
    "                           random_state=1)\n",
    "\n",
    "# Source: Python Machine Learning by Sebastian Raschka\n",
    "def kfold_estimator(X_train, y_train, kfold, pipe_payload):\n",
    "    clf_name = pipe_payload[0] # assigns name\n",
    "    pipe = pipe_payload[1] # assigns pipeline\n",
    "    scores = []\n",
    "    print(clf_name)\n",
    "    with warnings.catch_warnings():\n",
    "        warnings.simplefilter(\"ignore\")\n",
    "        for k, (train, test) in enumerate(kfold):\n",
    "            pipe.fit(X_train[train], y_train[train])\n",
    "            score = pipe.score(X_train[test], y_train[test])\n",
    "            scores.append(score)\n",
    "            print('Fold: %s, Class dist.: %s, Acc: %.3f' % (k+1,\n",
    "                  np.bincount(y_train[train]), score))\n",
    "\n",
    "    print('\\nCV accuracy: %.3f +/- %.3f' % mean_confidence_interval(scores, confidence=0.95))\n",
    "    print()\n",
    "    return [clf_name, mean_confidence_interval(scores, confidence=0.95)]\n",
    "    \n",
    "metrics_lr = kfold_estimator(X_train, y_train, kfold, kf_payload_lr)\n",
    "metrics_knn = kfold_estimator(X_train, y_train, kfold, kf_payload_knn)\n",
    "metrics_rf = kfold_estimator(X_train, y_train, kfold, kf_payload_rf)"
   ]
  },
  {
   "cell_type": "markdown",
   "metadata": {},
   "source": [
    "## Analysis of Results\n",
    "The above shows each iteration of the stratified 10 fold cross validation for each model on the test data. The models used the training data and return very similar results. RF continued to be the best performer with a average accuracy of 80.6% with a 95% confidence interval of .801 to .811. KNN also did decently with average accuracy of .788 and a 95% confidence level of +/- .006. In last place, is Logistic regression average an accuracy of .646 and a 95% confidence level of +/- .006. The stratified K-fold cross validation gave stable results.\n",
    "\n",
    "Although RF was the best performer, because it used the full explanatory variables, it was over 5 times slower than KNN or Logistic Regression using 3 principle components. This could be a significant problem on larger data sets or where time-to-classification is a priority, such as a credit card application. "
   ]
  },
  {
   "cell_type": "code",
   "execution_count": 56,
   "metadata": {
    "collapsed": false,
    "scrolled": false
   },
   "outputs": [
    {
     "name": "stdout",
     "output_type": "stream",
     "text": [
      "Feature ranking:\n",
      "1. BILL_AMT1_Sept (0.086271)\n",
      "2. PAY_AMT2_Aug (0.082551)\n",
      "3. AGE (0.071030)\n",
      "4. BILL_AMT3_July (0.068036)\n",
      "5. BILL_AMT2_Aug (0.062833)\n",
      "6. PAY_AMT6_April (0.062655)\n",
      "7. PAY_AMT1_Sept (0.062641)\n",
      "8. BILL_AMT6_April (0.057856)\n",
      "9. PAY_AMT3_July (0.056656)\n",
      "10. BILL_AMT4_June (0.050148)\n",
      "11. PAY_AMT5_May (0.049983)\n",
      "12. BILL_AMT5_May (0.049773)\n",
      "13. PAY_AMT4_June (0.047865)\n",
      "14. PAY_0_Sept (0.030623)\n",
      "15. AGE_range (0.021061)\n",
      "16. PAY_2_Aug (0.019749)\n",
      "17. EDUCATION (0.015986)\n",
      "18. PAY_3_July (0.015871)\n",
      "19. PAY_4_June (0.013441)\n",
      "20. PAY_6_April (0.012543)\n",
      "21. PAY_5_May (0.011120)\n",
      "22. isGradSchool (0.010958)\n",
      "23. default payment next month (0.008785)\n",
      "24. SEX (0.008102)\n",
      "25. isMale (0.007932)\n",
      "26. Marriage_Married (0.007573)\n",
      "27. Marriage_Single (0.007389)\n",
      "28. Marriage_Others (0.000569)\n"
     ]
    },
    {
     "data": {
      "image/png": "[encoded data removed]",
      "text/plain": [
       "<matplotlib.figure.Figure at 0x26bd2c3d048>"
      ]
     },
     "metadata": {},
     "output_type": "display_data"
    }
   ],
   "source": [
    "# Adapted from scikitlearn examples\n",
    "from sklearn.datasets import make_classification\n",
    "from sklearn.ensemble import ExtraTreesClassifier\n",
    "# Build a forest and compute the feature importances\n",
    "# Original example used ExtraTreesClassifier but the same result is produced\n",
    "forest = RandomForestClassifier(random_state=1, n_jobs=-1)\n",
    "\n",
    "forest.fit(X, y)\n",
    "importances = forest.feature_importances_\n",
    "std = np.std([tree.feature_importances_ for tree in forest.estimators_],\n",
    "             axis=0)\n",
    "indices = np.argsort(importances)[::-1]\n",
    "\n",
    "# Print the feature ranking\n",
    "print(\"Feature ranking:\")\n",
    "\n",
    "X_names_in_order= []\n",
    "for f in range(X.shape[1]):\n",
    "    print(\"%d. %s (%f)\" % (f + 1, X_names[indices[f]], importances[indices[f]]))\n",
    "    X_names_in_order.append(X_names[indices[f]])\n",
    "\n",
    "# Plot the feature importances of the forest\n",
    "plt.figure()\n",
    "plt.title(\"Feature importances\")\n",
    "plt.bar(range(X.shape[1]), importances[indices],\n",
    "       color=\"r\", yerr=std[indices], align=\"center\")\n",
    "plt.xticks(range(X.shape[1]), X_names_in_order, rotation=90 )\n",
    "plt.xlim([-1, X.shape[1]])\n",
    "plt.show()"
   ]
  },
  {
   "cell_type": "markdown",
   "metadata": {},
   "source": [
    "## Feature Importance\n",
    "While BILL\\_AMT1\\_Sept and PAY\\_AMT2\\_Aug are no surprise, the AGE feature is a surprise when compared to the PCA and LDA result which had little importance for these feature (see below). The interwine of BILL\\_ and PAY\\_ is recognition of the relationship of these sets of features."
   ]
  },
  {
   "cell_type": "markdown",
   "metadata": {},
   "source": [
    "## Determing Risk Groups\n",
    "All companies have limited resources, therefore, limiting the amount of overhead is key to keeping costs under control. When a credit card company needs to protect itself one way is to control risk. Using the RF classifier, the probability of default was determined for each observation and grouped into 3 risk buckets: low, elevated, and high. The low group had a probability of default less than .3, the elevated risk group had a probability of default between .3 and .7, and lastly the high risk group had a probability between .7 and 1. With this information a company can now take mitigating actions to prevent loss due to default. "
   ]
  },
  {
   "cell_type": "code",
   "execution_count": 57,
   "metadata": {
    "collapsed": false
   },
   "outputs": [
    {
     "name": "stdout",
     "output_type": "stream",
     "text": [
      "Pipeline(steps=[('clf', RandomForestClassifier(bootstrap=True, class_weight=None, criterion='entropy',\n",
      "            max_depth=None, max_features=None, max_leaf_nodes=None,\n",
      "            min_samples_leaf=1, min_samples_split=2,\n",
      "            min_weight_fraction_leaf=0.0, n_estimators=15, n_jobs=1,\n",
      "            oob_score=False, random_state=1, verbose=0, warm_start=False))])\n"
     ]
    },
    {
     "data": {
      "text/plain": [
       "<matplotlib.lines.Line2D at 0x26bd3f7c550>"
      ]
     },
     "execution_count": 57,
     "metadata": {},
     "output_type": "execute_result"
    },
    {
     "data": {
      "image/png": "[encoded data removed]",
      "text/plain": [
       "<matplotlib.figure.Figure at 0x26bd546d940>"
      ]
     },
     "metadata": {},
     "output_type": "display_data"
    }
   ],
   "source": [
    "# From the gridsearch previously done, gs_rf is the \n",
    "# Random Forest object of the results\n",
    "\n",
    "# Set the best model as deteremined by gridsearch\n",
    "gs_rf_best_clf = gs_rf.best_estimator_\n",
    "print(gs_rf_best_clf)\n",
    "# Train the best model on the training data again\n",
    "gs_rf_best_clf.fit(X_train, y_train)\n",
    "# Produce the probability of being a '1' aka 'default'\n",
    "y_pred_proba = gs_rf_best_clf.predict_proba(X_test)[:, 1]\n",
    "plt.hist(y_pred_proba)\n",
    "plt.axvline(.70)\n",
    "plt.axvline(.30)"
   ]
  },
  {
   "cell_type": "code",
   "execution_count": 58,
   "metadata": {
    "collapsed": false
   },
   "outputs": [
    {
     "name": "stdout",
     "output_type": "stream",
     "text": [
      "          Default\n",
      "Risk_Cat         \n",
      "low          4030\n",
      "elevated     1567\n",
      "high          324 \n",
      "\n",
      "           Default\n",
      "Risk_Cat          \n",
      "low       0.108685\n",
      "elevated  0.428845\n",
      "high      0.793210\n"
     ]
    }
   ],
   "source": [
    "risk_data = pd.DataFrame({'Default':y_test, 'Risk_Cat':pd.cut(y_pred_proba, [-.1,.3,.7,1],3,labels=['low','elevated','high'])})\n",
    "risk_data_x = risk_data.groupby(['Risk_Cat'])\n",
    "print(risk_data_x.count(), \"\\n\")\n",
    "print(risk_data_x.sum()/risk_data_x.count())"
   ]
  },
  {
   "cell_type": "markdown",
   "metadata": {
    "collapsed": false
   },
   "source": [
    "## Important Attributes as Determined by PCA and LDA"
   ]
  },
  {
   "cell_type": "code",
   "execution_count": 59,
   "metadata": {
    "collapsed": false
   },
   "outputs": [
    {
     "name": "stdout",
     "output_type": "stream",
     "text": [
      "pca: [[ -8.52847865e-08   2.84917570e-08   3.18875724e-06   1.37355378e-06\n",
      "    1.82636400e-06   1.80822076e-06   1.82550194e-06   1.85943845e-06\n",
      "    1.92324403e-06   4.45908342e-01   4.40285624e-01   4.28771056e-01\n",
      "    3.97714441e-01   3.70059574e-01   3.53820172e-01   2.51169500e-02\n",
      "    2.85924118e-02   2.39220952e-02   1.93798479e-02   1.88567055e-02\n",
      "    2.02067748e-02  -3.61821229e-08   2.72023306e-07   8.52847865e-08\n",
      "   -3.02217961e-08   7.36657603e-08  -1.16137240e-08  -6.20520362e-08]\n",
      " [ -3.51218712e-07  -8.43946089e-07   1.48946097e-06   1.28266433e-06\n",
      "    1.62837634e-06   4.64954509e-07  -1.21723231e-06  -2.61065062e-06\n",
      "   -3.59641408e-06   5.52247481e-01   3.94524819e-01   4.20940896e-02\n",
      "   -2.55404312e-01  -4.19891919e-01  -4.75538942e-01  -4.71120784e-02\n",
      "   -1.79104692e-01  -1.44345093e-01  -1.02395486e-01  -6.49924882e-02\n",
      "    8.98328586e-03  -4.83653540e-08   2.10039643e-07   3.51218712e-07\n",
      "   -6.42798653e-07   9.87839860e-09   2.42400613e-08  -3.41184599e-08]\n",
      " [  8.98344687e-09   6.64923394e-07   3.55898141e-06  -3.93421667e-06\n",
      "   -4.14693632e-06  -3.31924434e-06  -1.31097048e-06  -2.33501461e-06\n",
      "   -3.63943110e-06  -1.79086680e-01  -3.10839041e-02   5.37882965e-01\n",
      "    6.37713713e-02  -2.12619712e-01  -3.16841569e-01   2.02354519e-01\n",
      "    6.81258702e-01   4.22178168e-02  -2.88680617e-02   2.62895099e-02\n",
      "    1.40048349e-01  -7.61135165e-07   3.71719321e-07  -8.98344687e-09\n",
      "    6.12828610e-07   9.92627033e-08   3.69236335e-08  -1.36186337e-07]\n",
      " [ -1.57130787e-07   2.22316228e-06   1.10120480e-05  -8.20530888e-06\n",
      "   -7.89213570e-06  -8.98885457e-06  -9.88991632e-06  -8.61436927e-06\n",
      "   -6.87535980e-06   3.14545538e-01   3.27569590e-02  -3.30825333e-01\n",
      "   -2.56232531e-01  -4.91207449e-03   1.29707425e-01   2.49154078e-01\n",
      "    2.60019363e-01   4.14784572e-01   4.20269873e-01   3.16185907e-01\n",
      "    3.60145902e-01  -1.91449679e-06   9.19917080e-07   1.57130787e-07\n",
      "    1.57326924e-06   1.04860804e-07   6.44923927e-08  -1.69353197e-07]]\n",
      "lda: [[ -1.79395291e-02   3.14474176e-01   2.28980585e-02  -1.42479565e-01\n",
      "   -1.63943543e-01  -9.59210026e-02  -4.57417585e-02  -1.10248805e-02\n",
      "   -1.52455867e-01   5.21442191e-06  -1.24320806e-06  -1.58840804e-06\n",
      "    3.30827681e-06   5.47863675e-06  -2.50446393e-06   7.01515652e-06\n",
      "    4.37570598e-06   3.35765835e-06   7.97058482e-06   1.30772644e-05\n",
      "    1.03369989e-05  -4.09782939e-02  -5.87527055e-04   1.79395291e-02\n",
      "    3.63388615e-01   1.34902330e-01  -6.33370833e-01  -1.07147177e-01]]\n"
     ]
    },
    {
     "name": "stderr",
     "output_type": "stream",
     "text": [
      "C:\\Anaconda3\\lib\\site-packages\\sklearn\\discriminant_analysis.py:387: UserWarning: Variables are collinear.\n",
      "  warnings.warn(\"Variables are collinear.\")\n"
     ]
    }
   ],
   "source": [
    "#PCA or LDA code\n",
    "# now let's use PCA, and LDA to find the two \"best\" dimensions of this data\n",
    "# these are linear transforms to help project the features into something more understandable\n",
    "\n",
    "from sklearn.decomposition import PCA\n",
    "from sklearn.lda import LDA\n",
    "\n",
    "#copy the data to use code from sample\n",
    "#X = cc_data_Xs\n",
    "# y = cc_data_target\n",
    "target_names = X_names\n",
    "\n",
    "pca = PCA(n_components=4)\n",
    "X_pca = pca.fit(X).transform(X) # fit data and then transform it\n",
    "\n",
    "lda = LDA(n_components=4)\n",
    "X_lda = lda.fit(X, y).transform(X) # fit data and then transform it\n",
    "\n",
    "# print the components\n",
    "\n",
    "print ('pca:', pca.components_)\n",
    "print ('lda:', lda.scalings_.T)"
   ]
  },
  {
   "cell_type": "code",
   "execution_count": 60,
   "metadata": {
    "collapsed": false
   },
   "outputs": [
    {
     "name": "stdout",
     "output_type": "stream",
     "text": [
      "Variance explained for the 4 components:\n",
      "[ 0.84919312  0.048262    0.02714446  0.01609928] \n",
      "\n",
      "-0.00* +0.00*EDUC +0.00* +0.00*PAY_0 +0.00*PAY_ +0.00*PAY_3 +0.00*PAY_4 +0.00*PAY_ +0.00*PAY_6_ +0.45*BILL_AMT1 +0.44*BILL_AMT +0.43*BILL_AMT3 +0.40*BILL_AMT4 +0.37*BILL_AMT +0.35*BILL_AMT6_ +0.03*PAY_AMT1 +0.03*PAY_AMT +0.02*PAY_AMT3 +0.02*PAY_AMT4 +0.02*PAY_AMT +0.02*PAY_AMT6_ -0.00*default payment next  +0.00*AGE_ +0.00*i -0.00*isGradS +0.00*Marriage_Ma -0.00*Marriage_O -0.00*Marriage_S  \n",
      "\n",
      "-0.00* -0.00*EDUC +0.00* +0.00*PAY_0 +0.00*PAY_ +0.00*PAY_3 -0.00*PAY_4 -0.00*PAY_ -0.00*PAY_6_ +0.55*BILL_AMT1 +0.39*BILL_AMT +0.04*BILL_AMT3 -0.26*BILL_AMT4 -0.42*BILL_AMT -0.48*BILL_AMT6_ -0.05*PAY_AMT1 -0.18*PAY_AMT -0.14*PAY_AMT3 -0.10*PAY_AMT4 -0.06*PAY_AMT +0.01*PAY_AMT6_ -0.00*default payment next  +0.00*AGE_ +0.00*i -0.00*isGradS +0.00*Marriage_Ma +0.00*Marriage_O -0.00*Marriage_S  \n",
      "\n",
      "0.00* +0.00*EDUC +0.00* -0.00*PAY_0 -0.00*PAY_ -0.00*PAY_3 -0.00*PAY_4 -0.00*PAY_ -0.00*PAY_6_ -0.18*BILL_AMT1 -0.03*BILL_AMT +0.54*BILL_AMT3 +0.06*BILL_AMT4 -0.21*BILL_AMT -0.32*BILL_AMT6_ +0.20*PAY_AMT1 +0.68*PAY_AMT +0.04*PAY_AMT3 -0.03*PAY_AMT4 +0.03*PAY_AMT +0.14*PAY_AMT6_ -0.00*default payment next  +0.00*AGE_ -0.00*i +0.00*isGradS +0.00*Marriage_Ma +0.00*Marriage_O -0.00*Marriage_S  \n",
      "\n",
      "-0.00* +0.00*EDUC +0.00* -0.00*PAY_0 -0.00*PAY_ -0.00*PAY_3 -0.00*PAY_4 -0.00*PAY_ -0.00*PAY_6_ +0.31*BILL_AMT1 +0.03*BILL_AMT -0.33*BILL_AMT3 -0.26*BILL_AMT4 -0.00*BILL_AMT +0.13*BILL_AMT6_ +0.25*PAY_AMT1 +0.26*PAY_AMT +0.41*PAY_AMT3 +0.42*PAY_AMT4 +0.32*PAY_AMT +0.36*PAY_AMT6_ -0.00*default payment next  +0.00*AGE_ +0.00*i +0.00*isGradS +0.00*Marriage_Ma +0.00*Marriage_O -0.00*Marriage_S  \n",
      "\n",
      "['-0.02* +0.31*EDUC +0.02* -0.14*PAY_0 -0.16*PAY_ -0.10*PAY_3 -0.05*PAY_4 -0.01*PAY_ -0.15*PAY_6_ +0.00*BILL_AMT1 -0.00*BILL_AMT -0.00*BILL_AMT3 +0.00*BILL_AMT4 +0.00*BILL_AMT -0.00*BILL_AMT6_ +0.00*PAY_AMT1 +0.00*PAY_AMT +0.00*PAY_AMT3 +0.00*PAY_AMT4 +0.00*PAY_AMT +0.00*PAY_AMT6_ -0.04*default payment next  -0.00*AGE_ +0.02*i +0.36*isGradS +0.13*Marriage_Ma -0.63*Marriage_O -0.11*Marriage_S ']\n"
     ]
    }
   ],
   "source": [
    "%matplotlib inline\n",
    "# this function definition just formats the weights into readable strings\n",
    "# you can skip it without loss of generality to the Data Science content\n",
    "def get_feature_names_from_weights(weights, names):\n",
    "    tmp_array = []\n",
    "    for comp in weights:\n",
    "        tmp_string = ''\n",
    "        for fidx,f in enumerate(names):\n",
    "            if fidx>0 and comp[fidx]>=0:\n",
    "                tmp_string+='+'\n",
    "            tmp_string += '%.2f*%s ' % (comp[fidx],f[:-5])\n",
    "        tmp_array.append(tmp_string)\n",
    "    return tmp_array\n",
    "  \n",
    "# now let's get to the Data Analytics!\n",
    "pca_weight_strings = get_feature_names_from_weights(pca.components_, X_names) \n",
    "lda_weight_strings = get_feature_names_from_weights(lda.scalings_.T, X_names) \n",
    "\n",
    "# create some pandas dataframes from the transformed outputs\n",
    "df_pca = pd.DataFrame(X_pca,columns=[pca_weight_strings])\n",
    "df_lda = pd.DataFrame(X_lda,columns=[lda_weight_strings])\n",
    "\n",
    "print(\"Variance explained for the 4 components:\")\n",
    "print(pca.explained_variance_ratio_ , \"\\n\")\n",
    "\n",
    "print(pca_weight_strings[0], \"\\n\")\n",
    "print(pca_weight_strings[1], \"\\n\")\n",
    "print(pca_weight_strings[2], \"\\n\")\n",
    "print(pca_weight_strings[3], \"\\n\")\n",
    "print(lda_weight_strings)"
   ]
  },
  {
   "cell_type": "markdown",
   "metadata": {
    "collapsed": true
   },
   "source": [
    "### PCA and LDA Analysis\n",
    "As can be observed with the PCA analysis, the first 3 Principle Components account for the majority of the variability of the input. PCA is a systematic way to reduce the number of inputs to a manageable size using an algorithm rather than eyeballs selecting variables, though with this number of attributes, both are valid. Of these 3 Principle Components, the first one has coefficients for BILL_AMT attributes, with minor weightings for PAY_AMT attributes and nothing or almost nothing for the other attributes. The LDA analysis shows much the same, although this algorithm chose PAY_ instead of BILL_AMT. PCA was superior but the conclusions are similar. Specifically, that marriage, age, education, and balance limits had little (LDA) or no (PCA) correlation to defaults."
   ]
  },
  {
   "cell_type": "markdown",
   "metadata": {},
   "source": [
    "## Deployment\n",
    "* The models provide a starting point for interested parties, identifying the most fruitful models with the data available. From this point, a conversation would be in order with the prospective model users about additional data that would enhance predictions and cover corner cases, and request additional data to test and validate again. \n",
    "* To measure the value, one would implement the model in a business setting. This is envisioned as  customer advisers calling customers that are going to default to offer help or whatever action the business sees fit to take to avoid that outcome. At the point where the CC company has fewer defaults and people have fewer defaults to struggle with, then you have a valid measurement: old default rate versus new default rate.\n",
    "* Updates to the model would be determined by its overall impact to the customer and company, combined with new ideas that develop as the model is tweaked to come up with better predictions. At some point the tweaks will not significantly improve the prediction at which time the company may decide to just keep it as-is and move the resource to more productive problems that need to be tackled. \n",
    "* For example, adding a credit score to the prediction should, theoretically, greatly improve prediction, including those who probabilistically will default and more concretely identifying those at risk."
   ]
  },
  {
   "cell_type": "markdown",
   "metadata": {},
   "source": [
    "# TASK TWO!\n",
    "This is looking for a second prediction:\n",
    "- We will predict users wtih a high balance limit. Set up originally in the data munging section at the top as isLimitBal_gt_250K\n",
    "- The business justification is the CC company can use these predictions to understand the pool of candidates, by the data, that do have a high balance limit (true positives) and those that should have a high balance limit (the false positives).\n",
    " - In other words, even if the high balance prediction does not match actual high balance limit, it is still an indicator that the data supports a high balance limit. \n",
    "- Special offerings can be designed to target high balance limit customers."
   ]
  },
  {
   "cell_type": "code",
   "execution_count": 61,
   "metadata": {
    "collapsed": false
   },
   "outputs": [],
   "source": [
    "# Seperate target data and explanatory data to NumPy arrays, as before\n",
    "# Start with the original, prepared data\n",
    "y = cc_data['isLimitBal_gt_250K'].values\n",
    "# don't forget to drop the original data too\n",
    "X = cc_data.drop(['isLimitBal_gt_250K', 'LIMIT_BAL_range'], axis='columns').values\n",
    "\n",
    "# Column names for labeling\n",
    "X_names = cc_data.drop(['isLimitBal_gt_250K', 'LIMIT_BAL_range'], axis='columns').columns"
   ]
  },
  {
   "cell_type": "code",
   "execution_count": 62,
   "metadata": {
    "collapsed": true
   },
   "outputs": [],
   "source": [
    "# Updated train and test sets using the same 80/20 split\n",
    "X_train, X_test, y_train, y_test =  train_test_split(X, y, test_size=0.20, random_state=1)"
   ]
  },
  {
   "cell_type": "code",
   "execution_count": 63,
   "metadata": {
    "collapsed": false
   },
   "outputs": [],
   "source": [
    "#\n",
    "# Very similar pipelines and grid search\n",
    "#\n",
    "###############################################################################\n",
    "########################## Logistic Regression Pipe ###########################\n",
    "###############################################################################\n",
    "clf_name='Logistic Regression'\n",
    "pipe_lr = Pipeline([('scl', StandardScaler()),\n",
    "                    ('pca', PCA()),\n",
    "                    ('clf', LogisticRegression(random_state=1))])\n",
    "param_grid_lr = [{'pca__n_components':[2,3,4],\n",
    "                  'clf__C': [.1,1,10,100],\n",
    "                  'clf__penalty': ['l1','l2'],\n",
    "                  'clf__class_weight': ['balanced', None]}]\n",
    "\n",
    "payload_lr = [clf_name, pipe_lr, param_grid_lr]\n",
    "\n",
    "###############################################################################\n",
    "################################## KNN Pipe ###################################\n",
    "###############################################################################\n",
    "clf_name='K Nearest Neighbors'\n",
    "pipe_knn = Pipeline([('scl', StandardScaler()),\n",
    "                    ('pca', PCA()),\n",
    "                    ('clf', KNeighborsClassifier())])\n",
    "\n",
    "param_grid_knn = [{'pca__n_components':[2,3,4],\n",
    "                   'clf__n_neighbors': [2,4,6,8], \n",
    "                   'clf__p': [1,2]}]\n",
    "\n",
    "payload_knn = [clf_name, pipe_knn, param_grid_knn]\n",
    "\n",
    "###############################################################################\n",
    "############################## Randomforest Pipe ##############################\n",
    "###############################################################################\n",
    "# No need to scale or use PCA on RF\n",
    "clf_name='Random Forest'\n",
    "pipe_rf = Pipeline([('clf', RandomForestClassifier(random_state=1,\n",
    "                                                   n_jobs=1))])\n",
    "\n",
    "param_grid_rf = [{'clf__criterion': ['entropy','gini'],\n",
    "                  'clf__n_estimators': [10,15,20], \n",
    "                  'clf__max_features': ['auto', 'sqrt', 'log2', None],\n",
    "                  'clf__class_weight': ['balanced', 'balanced_subsample', None]}]\n",
    "\n",
    "payload_rf = [clf_name, pipe_rf, param_grid_rf]"
   ]
  },
  {
   "cell_type": "code",
   "execution_count": 64,
   "metadata": {
    "collapsed": false
   },
   "outputs": [
    {
     "name": "stdout",
     "output_type": "stream",
     "text": [
      "Logistic Regression\n",
      "Best F-Score:  0.527754241435\n",
      "Best Parameters:  {'clf__penalty': 'l1', 'pca__n_components': 4, 'clf__class_weight': 'balanced', 'clf__C': 1}\n",
      "Best Estimator:  Pipeline(steps=[('scl', StandardScaler(copy=True, with_mean=True, with_std=True)), ('pca', PCA(copy=True, n_components=4, whiten=False)), ('clf', LogisticRegression(C=1, class_weight='balanced', dual=False,\n",
      "          fit_intercept=True, intercept_scaling=1, max_iter=100,\n",
      "          multi_class='ovr', n_jobs=1, penalty='l1', random_state=1,\n",
      "          solver='liblinear', tol=0.0001, verbose=0, warm_start=False))])\n",
      "K Nearest Neighbors\n",
      "Best F-Score:  0.390237505571\n",
      "Best Parameters:  {'clf__n_neighbors': 6, 'pca__n_components': 4, 'clf__p': 2}\n",
      "Best Estimator:  Pipeline(steps=[('scl', StandardScaler(copy=True, with_mean=True, with_std=True)), ('pca', PCA(copy=True, n_components=4, whiten=False)), ('clf', KNeighborsClassifier(algorithm='auto', leaf_size=30, metric='minkowski',\n",
      "           metric_params=None, n_jobs=1, n_neighbors=6, p=2,\n",
      "           weights='uniform'))])\n",
      "Random Forest\n",
      "Best F-Score:  0.476589304954\n",
      "Best Parameters:  {'clf__max_features': None, 'clf__n_estimators': 15, 'clf__class_weight': None, 'clf__criterion': 'gini'}\n",
      "Best Estimator:  Pipeline(steps=[('clf', RandomForestClassifier(bootstrap=True, class_weight=None, criterion='gini',\n",
      "            max_depth=None, max_features=None, max_leaf_nodes=None,\n",
      "            min_samples_leaf=1, min_samples_split=2,\n",
      "            min_weight_fraction_leaf=0.0, n_estimators=15, n_jobs=1,\n",
      "            oob_score=False, random_state=1, verbose=0, warm_start=False))])\n"
     ]
    }
   ],
   "source": [
    "# Using the grid_searcher2 function, run Logistic Regression, KNN, and Random Forest Models\n",
    "gs_lr = grid_searcher2(X_train, y_train, payload_lr)\n",
    "gs_knn = grid_searcher2(X_train, y_train, payload_knn)\n",
    "gs_rf = grid_searcher2(X_train, y_train, payload_rf)"
   ]
  },
  {
   "cell_type": "code",
   "execution_count": 65,
   "metadata": {
    "collapsed": false,
    "scrolled": false
   },
   "outputs": [
    {
     "name": "stdout",
     "output_type": "stream",
     "text": [
      "Logistic Regression\n",
      "****************************************************\n",
      "Classification Report:\n",
      "Accuracy: 0.720\n",
      "AUC: 0.795\n",
      "             precision    recall  f1-score   support\n",
      "\n",
      "      False       0.89      0.72      0.80      4554\n",
      "       True       0.43      0.71      0.54      1367\n",
      "\n",
      "avg / total       0.79      0.72      0.74      5921\n",
      "\n",
      "****************************************************\n",
      "\n",
      "\n",
      "KNN\n",
      "****************************************************\n",
      "Classification Report:\n",
      "Accuracy: 0.797\n",
      "AUC: 0.757\n",
      "             precision    recall  f1-score   support\n",
      "\n",
      "      False       0.82      0.95      0.88      4554\n",
      "       True       0.63      0.29      0.40      1367\n",
      "\n",
      "avg / total       0.77      0.80      0.77      5921\n",
      "\n",
      "****************************************************\n",
      "\n",
      "\n",
      "Random Forest\n",
      "****************************************************\n",
      "Classification Report:\n",
      "Accuracy: 0.804\n",
      "AUC: 0.811\n",
      "             precision    recall  f1-score   support\n",
      "\n",
      "      False       0.84      0.92      0.88      4554\n",
      "       True       0.61      0.40      0.49      1367\n",
      "\n",
      "avg / total       0.79      0.80      0.79      5921\n",
      "\n",
      "****************************************************\n",
      "\n",
      "\n"
     ]
    }
   ],
   "source": [
    "%matplotlib inline\n",
    "\n",
    "# split the same way\n",
    "X_train, X_test, y_train, y_test =  train_test_split(X, y, test_size=0.20, random_state=1)\n",
    "\n",
    "print(\"Logistic Regression\")\n",
    "fpr_lr, tpr_lr = roc_data(gs_lr, X_train, y_train, X_test, y_test)\n",
    "print(\"KNN\")\n",
    "fpr_knn, tpr_knn = roc_data(gs_knn, X_train, y_train, X_test, y_test)\n",
    "print(\"Random Forest\")\n",
    "fpr_rf, tpr_rf = roc_data(gs_rf, X_train, y_train, X_test, y_test)"
   ]
  },
  {
   "cell_type": "markdown",
   "metadata": {
    "collapsed": false
   },
   "source": [
    "### Review of Key Statistics\n",
    "Reviewing the metrics of the classifiers above, Random Forest (RF) is the better predictor. RF has a superior AUC score of .804 and f1-score of .79. Also, the ROC curve further below shows the RF model has the best performing curve over all. Using the AUC value RF is still the better model."
   ]
  },
  {
   "cell_type": "code",
   "execution_count": 66,
   "metadata": {
    "collapsed": false
   },
   "outputs": [
    {
     "data": {
      "image/png": "[encoded data removed]",
      "text/plain": [
       "<matplotlib.figure.Figure at 0x26bd6683a20>"
      ]
     },
     "metadata": {},
     "output_type": "display_data"
    }
   ],
   "source": [
    "%matplotlib inline\n",
    "\n",
    "fpr_zero, tpr_zero, _ = roc_curve(y_test, np.zeros(len(y_test)))\n",
    "\n",
    "plt.figure(figsize=(10, 10))\n",
    "plt.plot(fpr_lr, tpr_lr, label='Logistic Reg')\n",
    "plt.plot(fpr_knn, tpr_knn, label='KNN')\n",
    "plt.plot(fpr_rf, tpr_rf, label='RF')\n",
    "plt.plot(fpr_zero, tpr_zero, label='All Zeros', color=\"red\")# Equivalent to Diagonal\n",
    "plt.plot([0, 1], [0, 1], 'k--')\n",
    "plt.legend(loc=\"lower right\")\n",
    "plt.xlabel('Percent False Positive')\n",
    "plt.ylabel('Percent True Positive')\n",
    "plt.show()"
   ]
  },
  {
   "cell_type": "markdown",
   "metadata": {},
   "source": [
    "# Analysis\n",
    "In this case, RF was better, but not by much. Logistic regression was close. This is important as the data scales up. If LR runs much faster, it may be worth the time / accuracy tradeoff."
   ]
  },
  {
   "cell_type": "code",
   "execution_count": 67,
   "metadata": {
    "collapsed": true
   },
   "outputs": [],
   "source": [
    "#********************** K Fold - Use best parameters **************************\n",
    "\n",
    "############################ Logistic Regression ##############################\n",
    "clf_name='Logistic Regression'\n",
    "kf_payload_lr = [clf_name, gs_lr.best_estimator_]\n",
    "\n",
    "#################################### KNN ######################################\n",
    "clf_name='K Nearest Neighbors'\n",
    "kf_payload_knn = [clf_name, gs_knn.best_estimator_]\n",
    "\n",
    "################################ Random Forest ################################\n",
    "clf_name='Random Forest'\n",
    "kf_payload_rf = [clf_name, gs_rf.best_estimator_]"
   ]
  },
  {
   "cell_type": "code",
   "execution_count": 68,
   "metadata": {
    "collapsed": false
   },
   "outputs": [
    {
     "name": "stdout",
     "output_type": "stream",
     "text": [
      "Logistic Regression\n",
      "Fold: 1, Class dist.: [16560  4751], Acc: 0.730\n",
      "Fold: 2, Class dist.: [16561  4751], Acc: 0.700\n",
      "Fold: 3, Class dist.: [16561  4751], Acc: 0.734\n",
      "Fold: 4, Class dist.: [16561  4751], Acc: 0.712\n",
      "Fold: 5, Class dist.: [16561  4751], Acc: 0.729\n",
      "Fold: 6, Class dist.: [16561  4751], Acc: 0.712\n",
      "Fold: 7, Class dist.: [16561  4751], Acc: 0.720\n",
      "Fold: 8, Class dist.: [16561  4751], Acc: 0.721\n",
      "Fold: 9, Class dist.: [16561  4751], Acc: 0.717\n",
      "Fold: 10, Class dist.: [16561  4752], Acc: 0.724\n",
      "\n",
      "CV accuracy: 0.720 +/- 0.007\n",
      "\n",
      "K Nearest Neighbors\n",
      "Fold: 1, Class dist.: [16560  4751], Acc: 0.796\n",
      "Fold: 2, Class dist.: [16561  4751], Acc: 0.795\n",
      "Fold: 3, Class dist.: [16561  4751], Acc: 0.802\n",
      "Fold: 4, Class dist.: [16561  4751], Acc: 0.803\n",
      "Fold: 5, Class dist.: [16561  4751], Acc: 0.794\n",
      "Fold: 6, Class dist.: [16561  4751], Acc: 0.799\n",
      "Fold: 7, Class dist.: [16561  4751], Acc: 0.799\n",
      "Fold: 8, Class dist.: [16561  4751], Acc: 0.800\n",
      "Fold: 9, Class dist.: [16561  4751], Acc: 0.799\n",
      "Fold: 10, Class dist.: [16561  4752], Acc: 0.802\n",
      "\n",
      "CV accuracy: 0.799 +/- 0.002\n",
      "\n",
      "Random Forest\n",
      "Fold: 1, Class dist.: [16560  4751], Acc: 0.809\n",
      "Fold: 2, Class dist.: [16561  4751], Acc: 0.801\n",
      "Fold: 3, Class dist.: [16561  4751], Acc: 0.804\n",
      "Fold: 4, Class dist.: [16561  4751], Acc: 0.809\n",
      "Fold: 5, Class dist.: [16561  4751], Acc: 0.821\n",
      "Fold: 6, Class dist.: [16561  4751], Acc: 0.804\n",
      "Fold: 7, Class dist.: [16561  4751], Acc: 0.789\n",
      "Fold: 8, Class dist.: [16561  4751], Acc: 0.802\n",
      "Fold: 9, Class dist.: [16561  4751], Acc: 0.810\n",
      "Fold: 10, Class dist.: [16561  4752], Acc: 0.806\n",
      "\n",
      "CV accuracy: 0.805 +/- 0.006\n",
      "\n"
     ]
    }
   ],
   "source": [
    "# Cross Validation Object\n",
    "\n",
    "kfold = StratifiedKFold(y=y_train,\n",
    "                           n_folds=10,\n",
    "                           random_state=1)\n",
    "\n",
    "metrics_lr = kfold_estimator(X_train, y_train, kfold, kf_payload_lr)\n",
    "metrics_knn = kfold_estimator(X_train, y_train, kfold, kf_payload_knn)\n",
    "metrics_rf = kfold_estimator(X_train, y_train, kfold, kf_payload_rf)"
   ]
  },
  {
   "cell_type": "markdown",
   "metadata": {
    "collapsed": true
   },
   "source": [
    "## Task Two Analysis\n",
    "The results identify the group of people that should have a balance limit above 250k. For example, the credit card company can use the list of those that are predicted to have more than 250k, but do not, to generate a lead list for pursuing increased business by this group to consolidate credit cards with them. \n",
    "\n",
    "The accuracy is about 80% for both KNN (79.9% ±.2%) and Random Forest (80.5% ±.6%), with Random Forest being slightly more accurate. However, KNN using only 4 PCA components, runs much faster the Random Forest with all features with almost identical results. With many more thousands of customers in real world scenario, the speedier approach of KNN would be preferred. \n",
    "\n",
    "Remaining tasks could include:\n",
    "- Cross referencing those that have not had a default in some business directed amount of time. \n",
    "- Cross reference customers who recently earned a bachelors degree with a special offering for student loan financing for a Masters degree."
   ]
  }
 ],
 "metadata": {
  "anaconda-cloud": {},
  "kernelspec": {
   "display_name": "Python [default]",
   "language": "python",
   "name": "python3"
  },
  "language_info": {
   "codemirror_mode": {
    "name": "ipython",
    "version": 3
   },
   "file_extension": ".py",
   "mimetype": "text/x-python",
   "name": "python",
   "nbconvert_exporter": "python",
   "pygments_lexer": "ipython3",
   "version": "3.5.2"
  }
 },
 "nbformat": 4,
 "nbformat_minor": 0
}
